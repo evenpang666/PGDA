{
 "cells": [
  {
   "cell_type": "code",
   "execution_count": 1,
   "id": "7f3c6b58",
   "metadata": {},
   "outputs": [],
   "source": [
    "import numpy as np\n",
    "import matplotlib.pyplot as plt\n",
    "from scipy.stats import multivariate_normal\n",
    "from scipy import integrate\n",
    "from scipy import linalg\n",
    "from scipy import interpolate\n",
    "from sklearn import gaussian_process as gp\n",
    "from sklearn.gaussian_process import GaussianProcessRegressor\n",
    "from mpl_toolkits.mplot3d import Axes3D\n",
    "import torch\n",
    "import torch.nn as nn\n",
    "import torch.nn.functional as F\n",
    "from torch.nn.parameter import Parameter\n",
    "import operator\n",
    "from functools import reduce\n",
    "from functools import partial\n",
    "from timeit import default_timer\n",
    "from utilities3 import *\n",
    "from Adam import Adam\n",
    "from fourier_2d import *\n",
    "from util import *"
   ]
  },
  {
   "cell_type": "code",
   "execution_count": 2,
   "id": "eaecbfa0",
   "metadata": {},
   "outputs": [
    {
     "name": "stdout",
     "output_type": "stream",
     "text": [
      "Generating u: 240/24000"
     ]
    }
   ],
   "source": [
    "curr = generate(samples=2*1000,out_dim=51,length_scale=0.2)\n",
    "N = curr.shape[0]//2\n",
    "grid = np.linspace(0,1,51)\n",
    "f = np.zeros((N,grid.shape[0],grid.shape[0]))\n",
    "f0 = np.zeros((N,grid.shape[0],grid.shape[0]))+1\n",
    "u = np.zeros((N,grid.shape[0],grid.shape[0]))\n",
    "u0 = np.zeros((N,grid.shape[0],grid.shape[0]))\n",
    "for i in range(N):\n",
    "    f[i] = generate_2(curr[i*2],curr[i*2+1])\n",
    "    u[i] = FD_2d(f[i],grid)\n",
    "    if i==0:\n",
    "        u0[i] = FD_2d(f0[i],grid)\n",
    "    else:\n",
    "        u0[i] = u0[0]\n",
    "    print('\\rGenerating u: {:d}/{:d}'.format(i+1,N), end='', flush=True)\n",
    "    \n",
    "f_aug = 1*f+10\n",
    "u_aug = 1*u+10*u0\n",
    "f_aug = np.concatenate((f,f_aug))\n",
    "u_aug = np.concatenate((u,u_aug))\n",
    "\n",
    "ntest = 60\n",
    "curr_1 = generate(samples=2*ntest,out_dim=51,length_scale=0.2)\n",
    "curr_2 = generate(samples=2*ntest,out_dim=51,length_scale=2)\n",
    "curr_3 = generate(samples=2*ntest,out_dim=51,length_scale=0.2,A=10)\n",
    "curr_4 = generate(samples=2*ntest,out_dim=51,length_scale=2,A=10)\n",
    "curr = np.concatenate((curr_1,curr_2))\n",
    "curr = np.concatenate((curr,curr_3))\n",
    "curr = np.concatenate((curr,curr_4))\n",
    "N = curr.shape[0]//2\n",
    "f_test = np.zeros((N,grid.shape[0],grid.shape[0]))\n",
    "u_test = np.zeros((N,grid.shape[0],grid.shape[0]))\n",
    "for i in range(N):\n",
    "    f_test[i] = generate_2(curr[i*2],curr[i*2+1])\n",
    "    u_test[i] = FD_2d(f_test[i],grid)\n",
    "    print('\\rGenerating u: {:d}/{:d}'.format(i+1,N), end='', flush=True)"
   ]
  },
  {
   "cell_type": "code",
   "execution_count": 3,
   "id": "f8836b28",
   "metadata": {},
   "outputs": [
    {
     "data": {
      "image/png": "[encoded data removed]",
      "text/plain": [
       "<Figure size 432x288 with 2 Axes>"
      ]
     },
     "metadata": {
      "needs_background": "light"
     },
     "output_type": "display_data"
    },
    {
     "data": {
      "image/png": "[encoded data removed]",
      "text/plain": [
       "<Figure size 432x288 with 2 Axes>"
      ]
     },
     "metadata": {
      "needs_background": "light"
     },
     "output_type": "display_data"
    }
   ],
   "source": [
    "X, Y = np.meshgrid(grid, grid)\n",
    "plt.pcolormesh(Y, X, f[0], shading='auto')\n",
    "plt.colorbar()\n",
    "plt.show()\n",
    "plt.pcolormesh(Y, X, u[0], shading='auto')\n",
    "plt.colorbar()\n",
    "plt.show()"
   ]
  },
  {
   "cell_type": "code",
   "execution_count": 4,
   "id": "856ed175",
   "metadata": {},
   "outputs": [
    {
     "name": "stdout",
     "output_type": "stream",
     "text": [
      "Total parameters: 592129\n",
      "epoch 600/600 L2 = 0.002967, MSE = 0.000000, using 0.488564sTotal training time: 297.86898799999994 s\n"
     ]
    }
   ],
   "source": [
    "ntrain = 1000\n",
    "naug = 2000\n",
    "ntest = 60\n",
    "\n",
    "batch_size = 20\n",
    "learning_rate = 0.001\n",
    "epochs = 600\n",
    "step_size = 100\n",
    "gamma = 0.5\n",
    "modes1 = 12\n",
    "modes2 = 12\n",
    "width = 16\n",
    "\n",
    "f_train = torch.Tensor(f)\n",
    "u_train = torch.Tensor(u)\n",
    "f_test = torch.Tensor(f_test)\n",
    "u_test = torch.Tensor(u_test)\n",
    "f_aug = torch.Tensor(f_aug)\n",
    "u_aug = torch.Tensor(u_aug)\n",
    "f_train = torch.reshape(f_train,(f_train.shape[0],f_train.shape[1],f_train.shape[2],1))\n",
    "f_test = torch.reshape(f_test,(f_test.shape[0],f_test.shape[1],f_test.shape[2],1))\n",
    "f_aug = torch.reshape(f_aug,(f_aug.shape[0],f_aug.shape[1],f_aug.shape[2],1))\n",
    "train_loader = torch.utils.data.DataLoader(torch.utils.data.TensorDataset(f_train, u_train), batch_size=batch_size, shuffle=True)\n",
    "aug_loader = torch.utils.data.DataLoader(torch.utils.data.TensorDataset(f_aug, u_aug), batch_size=batch_size, shuffle=True)\n",
    "test_1_loader = torch.utils.data.DataLoader(torch.utils.data.TensorDataset(f_test[:ntest], u_test[:ntest]), batch_size=1, shuffle=False)\n",
    "test_2_loader = torch.utils.data.DataLoader(torch.utils.data.TensorDataset(f_test[ntest:ntest*2], u_test[ntest:ntest*2]), batch_size=1, shuffle=False)\n",
    "test_3_loader = torch.utils.data.DataLoader(torch.utils.data.TensorDataset(f_test[ntest*2:ntest*3], u_test[ntest*2:ntest*3]), batch_size=1, shuffle=False)\n",
    "test_4_loader = torch.utils.data.DataLoader(torch.utils.data.TensorDataset(f_test[ntest*3:], u_test[ntest*3:]), batch_size=1, shuffle=False)\n",
    "\n",
    "model = FNO2d(modes1, modes2, width).cuda()\n",
    "print('Total parameters:',count_params(model))\n",
    "\n",
    "optimizer = Adam(model.parameters(), lr=learning_rate, weight_decay=1e-4)\n",
    "scheduler = torch.optim.lr_scheduler.StepLR(optimizer, step_size=step_size, gamma=gamma)\n",
    "\n",
    "start = default_timer()\n",
    "\n",
    "MSE = torch.zeros(epochs)\n",
    "L2 = torch.zeros(epochs)\n",
    "\n",
    "myloss = LpLoss(size_average=False)\n",
    "for ep in range(epochs):\n",
    "    model.train()\n",
    "    t1 = default_timer()\n",
    "    train_mse = 0\n",
    "    train_l2 = 0\n",
    "    for x, y in train_loader:\n",
    "        x, y = x.cuda(), y.cuda()\n",
    "\n",
    "        optimizer.zero_grad()\n",
    "        out = model(x)\n",
    "        mse = F.mse_loss(out.view(batch_size, -1), y.view(batch_size, -1), reduction='mean')\n",
    "        l2 = myloss(out.view(batch_size, -1), y.view(batch_size, -1))\n",
    "        l2.backward()\n",
    "        \n",
    "        optimizer.step()\n",
    "        train_mse += mse.item()\n",
    "        train_l2 += l2.item()\n",
    "        \n",
    "    scheduler.step()\n",
    "    \n",
    "    train_mse /= len(train_loader)\n",
    "    train_l2 /= ntrain\n",
    "    t2 = default_timer()\n",
    "    \n",
    "    MSE[ep] = train_mse\n",
    "    L2[ep] = train_l2\n",
    "    print('\\repoch {:d}/{:d} L2 = {:.6f}, MSE = {:.6f}, using {:.6f}s'.format(ep+1,epochs,train_l2,train_mse,t2-t1), end='', flush=True)\n",
    "\n",
    "print('Total training time:',default_timer()-start,'s')"
   ]
  },
  {
   "cell_type": "code",
   "execution_count": 5,
   "id": "722d66c3",
   "metadata": {},
   "outputs": [
    {
     "name": "stdout",
     "output_type": "stream",
     "text": [
      "test error: L2 = 0.002829677074138696 , MSE = 4.790256454093959e-08\n",
      "test error: L2 = 0.002319554678009202 , MSE = 7.016795934566833e-09\n",
      "test error: L2 = 0.22884677598873773 , MSE = 0.009873960685217753\n",
      "test error: L2 = 0.21866144500672818 , MSE = 0.00846943545184331\n"
     ]
    }
   ],
   "source": [
    "test_l2 = 0\n",
    "test_mse = 0\n",
    "with torch.no_grad():\n",
    "    for x, y in test_1_loader:\n",
    "        x, y = x.cuda(), y.cuda()\n",
    "        out = model(x).view(-1)\n",
    "        mse = F.mse_loss(out.view(1, -1), y.view(1, -1), reduction='mean')\n",
    "        test_l2 += myloss(out.view(1, -1), y.view(1, -1)).item()\n",
    "        test_mse += mse.item()\n",
    "    test_mse /= len(test_1_loader)\n",
    "    test_l2 /= ntest\n",
    "    print('test error: L2 =', test_l2,', MSE =',test_mse)\n",
    "    \n",
    "test_l2 = 0\n",
    "test_mse = 0\n",
    "with torch.no_grad():\n",
    "    for x, y in test_2_loader:\n",
    "        x, y = x.cuda(), y.cuda()\n",
    "        out = model(x).view(-1)\n",
    "        mse = F.mse_loss(out.view(1, -1), y.view(1, -1), reduction='mean')\n",
    "        test_l2 += myloss(out.view(1, -1), y.view(1, -1)).item()\n",
    "        test_mse += mse.item()\n",
    "    test_mse /= len(test_2_loader)\n",
    "    test_l2 /= ntest\n",
    "    print('test error: L2 =', test_l2,', MSE =',test_mse)\n",
    "    \n",
    "test_l2 = 0\n",
    "test_mse = 0\n",
    "with torch.no_grad():\n",
    "    for x, y in test_3_loader:\n",
    "        x, y = x.cuda(), y.cuda()\n",
    "        out = model(x).view(-1)\n",
    "        mse = F.mse_loss(out.view(1, -1), y.view(1, -1), reduction='mean')\n",
    "        test_l2 += myloss(out.view(1, -1), y.view(1, -1)).item()\n",
    "        test_mse += mse.item()\n",
    "    test_mse /= len(test_3_loader)\n",
    "    test_l2 /= ntest\n",
    "    print('test error: L2 =', test_l2,', MSE =',test_mse)\n",
    "    \n",
    "test_l2 = 0\n",
    "test_mse = 0\n",
    "with torch.no_grad():\n",
    "    for x, y in test_4_loader:\n",
    "        x, y = x.cuda(), y.cuda()\n",
    "        out = model(x).view(-1)\n",
    "        mse = F.mse_loss(out.view(1, -1), y.view(1, -1), reduction='mean')\n",
    "        test_l2 += myloss(out.view(1, -1), y.view(1, -1)).item()\n",
    "        test_mse += mse.item()\n",
    "    test_mse /= len(test_4_loader)\n",
    "    test_l2 /= ntest\n",
    "    print('test error: L2 =', test_l2,', MSE =',test_mse)\n",
    "    \n",
    "torch.save(model,'model/fno2_1')"
   ]
  },
  {
   "cell_type": "code",
   "execution_count": 6,
   "id": "7da6c49a",
   "metadata": {},
   "outputs": [
    {
     "name": "stdout",
     "output_type": "stream",
     "text": [
      "Total parameters: 592129\n",
      "epoch 600/600 L2 = 0.001799, MSE = 0.000000, using 1.005672sTotal training time: 593.9917553 s\n",
      "test error: L2 = 0.002795140986563638 , MSE = 4.038030135822268e-08\n",
      "test error: L2 = 0.004233513599804913 , MSE = 1.082493484849678e-08\n",
      "test error: L2 = 0.0010625805133410418 , MSE = 1.993791202655378e-07\n",
      "test error: L2 = 0.0007785159546377447 , MSE = 1.109217633595468e-07\n"
     ]
    }
   ],
   "source": [
    "model = FNO2d(modes1, modes2, width).cuda()\n",
    "print('Total parameters:',count_params(model))\n",
    "optimizer = Adam(model.parameters(), lr=learning_rate, weight_decay=1e-4)\n",
    "scheduler = torch.optim.lr_scheduler.StepLR(optimizer, step_size=step_size, gamma=gamma)\n",
    "start = default_timer()\n",
    "for ep in range(epochs):\n",
    "    model.train()\n",
    "    t1 = default_timer()\n",
    "    train_mse = 0\n",
    "    train_l2 = 0\n",
    "    for x, y in aug_loader:\n",
    "        x, y = x.cuda(), y.cuda()\n",
    "        optimizer.zero_grad()\n",
    "        out = model(x)\n",
    "        mse = F.mse_loss(out.view(batch_size, -1), y.view(batch_size, -1), reduction='mean')\n",
    "        l2 = myloss(out.view(batch_size, -1), y.view(batch_size, -1))\n",
    "        l2.backward()\n",
    "        optimizer.step()\n",
    "        train_mse += mse.item()\n",
    "        train_l2 += l2.item()\n",
    "    scheduler.step()\n",
    "    train_mse /= len(aug_loader)\n",
    "    train_l2 /= naug\n",
    "    t2 = default_timer()\n",
    "    print('\\repoch {:d}/{:d} L2 = {:.6f}, MSE = {:.6f}, using {:.6f}s'.format(ep+1,epochs,train_l2,train_mse,t2-t1), end='', flush=True)\n",
    "\n",
    "print('Total training time:',default_timer()-start,'s')\n",
    "\n",
    "test_l2 = 0\n",
    "test_mse = 0\n",
    "with torch.no_grad():\n",
    "    for x, y in test_1_loader:\n",
    "        x, y = x.cuda(), y.cuda()\n",
    "        out = model(x).view(-1)\n",
    "        mse = F.mse_loss(out.view(1, -1), y.view(1, -1), reduction='mean')\n",
    "        test_l2 += myloss(out.view(1, -1), y.view(1, -1)).item()\n",
    "        test_mse += mse.item()\n",
    "    test_mse /= len(test_1_loader)\n",
    "    test_l2 /= ntest\n",
    "    print('test error: L2 =', test_l2,', MSE =',test_mse)\n",
    "    \n",
    "test_l2 = 0\n",
    "test_mse = 0\n",
    "with torch.no_grad():\n",
    "    for x, y in test_2_loader:\n",
    "        x, y = x.cuda(), y.cuda()\n",
    "        out = model(x).view(-1)\n",
    "        mse = F.mse_loss(out.view(1, -1), y.view(1, -1), reduction='mean')\n",
    "        test_l2 += myloss(out.view(1, -1), y.view(1, -1)).item()\n",
    "        test_mse += mse.item()\n",
    "    test_mse /= len(test_2_loader)\n",
    "    test_l2 /= ntest\n",
    "    print('test error: L2 =', test_l2,', MSE =',test_mse)\n",
    "    \n",
    "test_l2 = 0\n",
    "test_mse = 0\n",
    "with torch.no_grad():\n",
    "    for x, y in test_3_loader:\n",
    "        x, y = x.cuda(), y.cuda()\n",
    "        out = model(x).view(-1)\n",
    "        mse = F.mse_loss(out.view(1, -1), y.view(1, -1), reduction='mean')\n",
    "        test_l2 += myloss(out.view(1, -1), y.view(1, -1)).item()\n",
    "        test_mse += mse.item()\n",
    "    test_mse /= len(test_3_loader)\n",
    "    test_l2 /= ntest\n",
    "    print('test error: L2 =', test_l2,', MSE =',test_mse)\n",
    "    \n",
    "test_l2 = 0\n",
    "test_mse = 0\n",
    "with torch.no_grad():\n",
    "    for x, y in test_4_loader:\n",
    "        x, y = x.cuda(), y.cuda()\n",
    "        out = model(x).view(-1)\n",
    "        mse = F.mse_loss(out.view(1, -1), y.view(1, -1), reduction='mean')\n",
    "        test_l2 += myloss(out.view(1, -1), y.view(1, -1)).item()\n",
    "        test_mse += mse.item()\n",
    "    test_mse /= len(test_4_loader)\n",
    "    test_l2 /= ntest\n",
    "    print('test error: L2 =', test_l2,', MSE =',test_mse)"
   ]
  },
  {
   "cell_type": "code",
   "execution_count": 7,
   "id": "325a78be",
   "metadata": {},
   "outputs": [],
   "source": [
    "torch.save(model,'model/fno2_2')"
   ]
  },
  {
   "cell_type": "code",
   "execution_count": null,
   "id": "19fb4b87",
   "metadata": {},
   "outputs": [],
   "source": []
  }
 ],
 "metadata": {
  "kernelspec": {
   "display_name": "Python 3",
   "language": "python",
   "name": "python3"
  },
  "language_info": {
   "codemirror_mode": {
    "name": "ipython",
    "version": 3
   },
   "file_extension": ".py",
   "mimetype": "text/x-python",
   "name": "python",
   "nbconvert_exporter": "python",
   "pygments_lexer": "ipython3",
   "version": "3.8.8"
  }
 },
 "nbformat": 4,
 "nbformat_minor": 5
}
